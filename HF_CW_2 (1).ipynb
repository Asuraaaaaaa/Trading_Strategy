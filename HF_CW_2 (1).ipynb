{
 "cells": [
  {
   "cell_type": "markdown",
   "id": "d0354f91",
   "metadata": {},
   "source": [
    "# Data"
   ]
  },
  {
   "cell_type": "code",
   "execution_count": 1,
   "id": "3a5d7627",
   "metadata": {
    "ExecuteTime": {
     "end_time": "2023-04-23T18:59:24.041780Z",
     "start_time": "2023-04-23T18:59:21.236095Z"
    }
   },
   "outputs": [],
   "source": [
    "import pandas as pd\n",
    "import numpy as np\n",
    "import matplotlib.pyplot as plt\n",
    "import datetime\n",
    "import scipy.stats\n",
    "import yfinance as yf\n",
    "from datetime import datetime\n",
    "import warnings\n",
    "warnings.filterwarnings('ignore')"
   ]
  },
  {
   "cell_type": "markdown",
   "id": "b49e1b61",
   "metadata": {},
   "source": [
    "We tested our strategy using data sets that either differed in time or currency pairs. Here we take 'EURUSD_T_202212' as the example:"
   ]
  },
  {
   "cell_type": "code",
   "execution_count": 2,
   "id": "efcfc607",
   "metadata": {
    "ExecuteTime": {
     "end_time": "2023-04-23T18:59:26.684582Z",
     "start_time": "2023-04-23T18:59:24.043199Z"
    }
   },
   "outputs": [],
   "source": [
    "# df=pd.read_csv('/Users/yiyaoluo/Desktop/HF/DAT_ASCII_EURGBP_T_201606.csv', names=['Time', 'Ask', 'Bid','Volume']) \n",
    "# df=pd.read_csv('/Users/yiyaoluo/Desktop/HF/DAT_ASCII_EURGBP_T_202302.csv', names=['Time', 'Ask', 'Bid','Volume']) \n",
    "# df=pd.read_csv('/Users/yiyaoluo/Desktop/HF/DAT_ASCII_EURGBP_T_202301.csv', names=['Time', 'Ask', 'Bid','Volume']) \n",
    "# df=pd.read_csv('/Users/yiyaoluo/Desktop/HF/DAT_ASCII_EURGBP_T_202212.csv', names=['Time', 'Ask', 'Bid','Volume']) \n",
    "\n",
    "# df=pd.read_csv('/Users/yiyaoluo/Desktop/HF/DAT_ASCII_EURUSD_T_201912.csv', names=['Time', 'Ask', 'Bid','Volume']) \n",
    "# df=pd.read_csv('/Users/yiyaoluo/Desktop/HF/DAT_ASCII_EURUSD_T_202302.csv', names=['Time', 'Ask', 'Bid','Volume']) \n",
    "# df=pd.read_csv('/Users/yiyaoluo/Desktop/HF/DAT_ASCII_EURUSD_T_202301.csv', names=['Time', 'Ask', 'Bid','Volume']) \n",
    "df=pd.read_csv('/Users/yiyaoluo/Desktop/HF/DAT_ASCII_EURUSD_T_202212.csv', names=['Time', 'Ask', 'Bid','Volume']) "
   ]
  },
  {
   "cell_type": "markdown",
   "id": "8dce705c",
   "metadata": {},
   "source": [
    "We use the mean of Ask Price and Bid Price as our tick-data price here, and add 'Status' and 'Mode' Coulumns.   \n",
    "Status means which position the price is and Mode means the trend is up or down.   \n",
    "Give them a initial value like '0' and 'up'.   \n",
    "Both are from  slide 44 of lecture 8."
   ]
  },
  {
   "cell_type": "code",
   "execution_count": 3,
   "id": "17a4fbe8",
   "metadata": {
    "ExecuteTime": {
     "end_time": "2023-04-23T18:59:26.736176Z",
     "start_time": "2023-04-23T18:59:26.689106Z"
    }
   },
   "outputs": [
    {
     "data": {
      "text/html": [
       "<div>\n",
       "<style scoped>\n",
       "    .dataframe tbody tr th:only-of-type {\n",
       "        vertical-align: middle;\n",
       "    }\n",
       "\n",
       "    .dataframe tbody tr th {\n",
       "        vertical-align: top;\n",
       "    }\n",
       "\n",
       "    .dataframe thead th {\n",
       "        text-align: right;\n",
       "    }\n",
       "</style>\n",
       "<table border=\"1\" class=\"dataframe\">\n",
       "  <thead>\n",
       "    <tr style=\"text-align: right;\">\n",
       "      <th></th>\n",
       "      <th>Time</th>\n",
       "      <th>Ask</th>\n",
       "      <th>Bid</th>\n",
       "      <th>Volume</th>\n",
       "      <th>Price</th>\n",
       "      <th>Status</th>\n",
       "      <th>Mode</th>\n",
       "    </tr>\n",
       "  </thead>\n",
       "  <tbody>\n",
       "    <tr>\n",
       "      <th>0</th>\n",
       "      <td>20221201 000000257</td>\n",
       "      <td>1.04389</td>\n",
       "      <td>1.04396</td>\n",
       "      <td>0</td>\n",
       "      <td>1.043925</td>\n",
       "      <td>0</td>\n",
       "      <td>up</td>\n",
       "    </tr>\n",
       "    <tr>\n",
       "      <th>1</th>\n",
       "      <td>20221201 000000359</td>\n",
       "      <td>1.04390</td>\n",
       "      <td>1.04396</td>\n",
       "      <td>0</td>\n",
       "      <td>1.043930</td>\n",
       "      <td>0</td>\n",
       "      <td>up</td>\n",
       "    </tr>\n",
       "    <tr>\n",
       "      <th>2</th>\n",
       "      <td>20221201 000000480</td>\n",
       "      <td>1.04390</td>\n",
       "      <td>1.04397</td>\n",
       "      <td>0</td>\n",
       "      <td>1.043935</td>\n",
       "      <td>0</td>\n",
       "      <td>up</td>\n",
       "    </tr>\n",
       "    <tr>\n",
       "      <th>3</th>\n",
       "      <td>20221201 000000660</td>\n",
       "      <td>1.04391</td>\n",
       "      <td>1.04395</td>\n",
       "      <td>0</td>\n",
       "      <td>1.043930</td>\n",
       "      <td>0</td>\n",
       "      <td>up</td>\n",
       "    </tr>\n",
       "    <tr>\n",
       "      <th>4</th>\n",
       "      <td>20221201 000003295</td>\n",
       "      <td>1.04389</td>\n",
       "      <td>1.04395</td>\n",
       "      <td>0</td>\n",
       "      <td>1.043920</td>\n",
       "      <td>0</td>\n",
       "      <td>up</td>\n",
       "    </tr>\n",
       "  </tbody>\n",
       "</table>\n",
       "</div>"
      ],
      "text/plain": [
       "                 Time      Ask      Bid  Volume     Price  Status Mode\n",
       "0  20221201 000000257  1.04389  1.04396       0  1.043925       0   up\n",
       "1  20221201 000000359  1.04390  1.04396       0  1.043930       0   up\n",
       "2  20221201 000000480  1.04390  1.04397       0  1.043935       0   up\n",
       "3  20221201 000000660  1.04391  1.04395       0  1.043930       0   up\n",
       "4  20221201 000003295  1.04389  1.04395       0  1.043920       0   up"
      ]
     },
     "execution_count": 3,
     "metadata": {},
     "output_type": "execute_result"
    }
   ],
   "source": [
    "df['Price']=(df['Ask']+df['Bid'])/2 \n",
    "df['Status']=0\n",
    "df['Mode']='up'\n",
    "df.head()"
   ]
  },
  {
   "cell_type": "code",
   "execution_count": 4,
   "id": "a9709568",
   "metadata": {
    "ExecuteTime": {
     "end_time": "2023-04-23T18:59:27.572275Z",
     "start_time": "2023-04-23T18:59:26.737501Z"
    }
   },
   "outputs": [
    {
     "data": {
      "image/png": "[encoded data removed]",
      "text/plain": [
       "<Figure size 1296x432 with 1 Axes>"
      ]
     },
     "metadata": {
      "needs_background": "light"
     },
     "output_type": "display_data"
    }
   ],
   "source": [
    "Price=df[['Price','Status','Mode']]\n",
    "plt.figure(figsize=(18, 6))\n",
    "plt.title('Price')\n",
    "plt.xlabel('Tick')\n",
    "plt.ylabel('Price')\n",
    "plt.plot(Price['Price'])\n",
    "plt.show()"
   ]
  },
  {
   "cell_type": "code",
   "execution_count": 5,
   "id": "c5d8cd59",
   "metadata": {
    "ExecuteTime": {
     "end_time": "2023-04-23T18:59:27.575826Z",
     "start_time": "2023-04-23T18:59:27.573735Z"
    }
   },
   "outputs": [],
   "source": [
    "# (Price['Price'].std())/1000"
   ]
  },
  {
   "cell_type": "markdown",
   "id": "3e18bcc5",
   "metadata": {
    "ExecuteTime": {
     "end_time": "2023-04-23T17:51:09.800988Z",
     "start_time": "2023-04-23T17:51:09.798257Z"
    }
   },
   "source": [
    "**Regarding the setting of the threshold value:**  \n",
    "    I set the value to a particular multiple of the standard deviation of the price and keep the figure within a range of 1e-05, which keeps the number of operations within a reasonable range."
   ]
  },
  {
   "cell_type": "code",
   "execution_count": 6,
   "id": "97c0aa69",
   "metadata": {
    "ExecuteTime": {
     "end_time": "2023-04-23T18:59:27.635442Z",
     "start_time": "2023-04-23T18:59:27.577098Z"
    }
   },
   "outputs": [
    {
     "data": {
      "text/plain": [
       "6.554179131791941e-05"
      ]
     },
     "execution_count": 6,
     "metadata": {},
     "output_type": "execute_result"
    }
   ],
   "source": [
    "n=1\n",
    "while (Price['Price'].std()/(10**n))>=1e-04 :\n",
    "    n=n+1\n",
    "Price['Price'].std()/(10**n)"
   ]
  },
  {
   "cell_type": "markdown",
   "id": "e49260a5",
   "metadata": {},
   "source": [
    "Below is the code for the specific implementation of the algorithm in the slide 44."
   ]
  },
  {
   "cell_type": "code",
   "execution_count": 7,
   "id": "397bc36e",
   "metadata": {
    "ExecuteTime": {
     "end_time": "2023-04-23T18:59:27.676060Z",
     "start_time": "2023-04-23T18:59:27.636837Z"
    }
   },
   "outputs": [],
   "source": [
    "Threshold_up = Price['Price'].std()/(10**n)\n",
    "Threshold_down = Price['Price'].std()/(10**n)\n",
    "S_ext = Price['Price'][0]\n",
    "S_IE = Price['Price'][0]\n",
    "Mode='up'"
   ]
  },
  {
   "cell_type": "code",
   "execution_count": 8,
   "id": "a03e7512",
   "metadata": {
    "ExecuteTime": {
     "end_time": "2023-04-23T19:02:43.226358Z",
     "start_time": "2023-04-23T18:59:27.677301Z"
    }
   },
   "outputs": [],
   "source": [
    "for i in range(Price['Price'].count()):\n",
    "    S_tick = Price['Price'][i]\n",
    "    if Mode == 'up':\n",
    "        if (S_tick-S_ext)/S_ext >= Threshold_up:\n",
    "            Mode = 'down'\n",
    "#             Price.loc[i,'Mode'] =Mode\n",
    "            S_ext = S_tick\n",
    "            S_IE = S_tick\n",
    "            Price.loc[i, 'Status'] = 1\n",
    "        elif S_tick < S_ext:\n",
    "            S_ext = S_tick\n",
    "            if (S_IE-S_ext)/S_ext >= Threshold_down:\n",
    "                S_IE = S_tick\n",
    "                Price.loc[i, 'Status'] = -2\n",
    "    elif Mode == 'down':\n",
    "\n",
    "        if (S_ext-S_tick)/S_ext >= Threshold_down:\n",
    "            Mode = 'up'\n",
    "            S_ext = S_tick\n",
    "            S_IE = S_tick\n",
    "            Price.loc[i, 'Status'] = -1\n",
    "        elif S_tick > S_ext:\n",
    "\n",
    "            S_ext = S_tick\n",
    "            if (S_ext-S_IE)/S_ext > Threshold_up:\n",
    "                S_IE = S_tick\n",
    "                Price.loc[i, 'Status'] = 2\n",
    "    Price.loc[i, 'Mode'] = Mode"
   ]
  },
  {
   "cell_type": "markdown",
   "id": "cf7756cf",
   "metadata": {},
   "source": [
    "After dissecting the time series at intrinsic time, let us look at the first 1000 data markers."
   ]
  },
  {
   "cell_type": "code",
   "execution_count": 9,
   "id": "93e4e70d",
   "metadata": {
    "ExecuteTime": {
     "end_time": "2023-04-23T19:02:43.363248Z",
     "start_time": "2023-04-23T19:02:43.229283Z"
    }
   },
   "outputs": [
    {
     "data": {
      "image/png": "[encoded data removed]",
      "text/plain": [
       "<Figure size 1296x432 with 1 Axes>"
      ]
     },
     "metadata": {
      "needs_background": "light"
     },
     "output_type": "display_data"
    }
   ],
   "source": [
    "Key = Price[0:1000]\n",
    "plt.figure(figsize=(18, 6))\n",
    "plt.title('First 1000 Marked Data')\n",
    "plt.xlabel('Tick')\n",
    "plt.ylabel('Price')\n",
    "plt.plot(Key['Price'], c='blue')\n",
    "plt.plot(Key[Key['Status'] != 0]['Price'], c='red')\n",
    "plt.show()"
   ]
  },
  {
   "cell_type": "markdown",
   "id": "75712687",
   "metadata": {},
   "source": [
    "In the diagram we can see that each event is marked in red and that the frequency of events is very appropriate"
   ]
  },
  {
   "cell_type": "markdown",
   "id": "5260057d",
   "metadata": {},
   "source": [
    "# Strategy"
   ]
  },
  {
   "cell_type": "markdown",
   "id": "d535b5b8",
   "metadata": {},
   "source": [
    "As the strategy we use is a high frequency trade, the selection of the strategy should be as simple as possible to reduce the time complexity of running the program. Here we use a simple but effective trading strategy."
   ]
  },
  {
   "cell_type": "markdown",
   "id": "c51a6bd3",
   "metadata": {
    "ExecuteTime": {
     "end_time": "2023-04-23T18:05:28.862651Z",
     "start_time": "2023-04-23T18:05:28.860915Z"
    }
   },
   "source": [
    "<span class=\"mark\"><span class=\"mark\">**Sell**：</span>when the mode is **up** and the Status is **-1**  \n",
    " **Buy**：when the mode is **down** and the Status is **2**</span>"
   ]
  },
  {
   "cell_type": "code",
   "execution_count": 19,
   "id": "98c91fc1",
   "metadata": {
    "ExecuteTime": {
     "end_time": "2023-04-24T14:05:01.144563Z",
     "start_time": "2023-04-24T14:04:58.306382Z"
    }
   },
   "outputs": [
    {
     "name": "stdout",
     "output_type": "stream",
     "text": [
      "Requirement already satisfied: tqdm in ./opt/anaconda3/lib/python3.9/site-packages (4.64.0)\n",
      "Note: you may need to restart the kernel to use updated packages.\n"
     ]
    }
   ],
   "source": []
  },
  {
   "cell_type": "markdown",
   "id": "5148bfb4",
   "metadata": {},
   "source": [
    "set the initial value of the operate signal as -1  \n",
    "when it's time to sell, change it to 0;  \n",
    "when it's time to buy, change it to 1\n"
   ]
  },
  {
   "cell_type": "code",
   "execution_count": 10,
   "id": "d500eea1",
   "metadata": {
    "ExecuteTime": {
     "end_time": "2023-04-23T19:02:43.586301Z",
     "start_time": "2023-04-23T19:02:43.364490Z"
    }
   },
   "outputs": [],
   "source": [
    "\n",
    "Price['Signal']=-1"
   ]
  },
  {
   "cell_type": "code",
   "execution_count": 11,
   "id": "5f3b4649",
   "metadata": {
    "ExecuteTime": {
     "end_time": "2023-04-23T19:02:43.803616Z",
     "start_time": "2023-04-23T19:02:43.587693Z"
    }
   },
   "outputs": [],
   "source": [
    "condition1=(Price['Mode']=='up')\n",
    "condition2=(Price['Status']==-1)\n",
    "Price.loc[condition1 & condition2, 'Signal'] = 0"
   ]
  },
  {
   "cell_type": "code",
   "execution_count": 12,
   "id": "339042c3",
   "metadata": {
    "ExecuteTime": {
     "end_time": "2023-04-23T19:02:43.999996Z",
     "start_time": "2023-04-23T19:02:43.807600Z"
    }
   },
   "outputs": [],
   "source": [
    "condition1=(Price['Mode']=='down')\n",
    "condition2=(Price['Status']==2)\n",
    "Price.loc[condition1 & condition2, 'Signal'] = 1"
   ]
  },
  {
   "cell_type": "markdown",
   "id": "31f5a74f",
   "metadata": {},
   "source": [
    "# Back Test"
   ]
  },
  {
   "cell_type": "markdown",
   "id": "446bae0e",
   "metadata": {},
   "source": [
    "calculate the percent change of the price each day"
   ]
  },
  {
   "cell_type": "code",
   "execution_count": 13,
   "id": "3daec749",
   "metadata": {
    "ExecuteTime": {
     "end_time": "2023-04-23T19:02:44.661923Z",
     "start_time": "2023-04-23T19:02:44.001171Z"
    }
   },
   "outputs": [],
   "source": [
    "Price['pct_change']=Price['Price'].pct_change()\n",
    "Price.fillna(value=0,inplace=True)"
   ]
  },
  {
   "cell_type": "markdown",
   "id": "2bd00302",
   "metadata": {},
   "source": [
    "set the initial position as 0"
   ]
  },
  {
   "cell_type": "code",
   "execution_count": 14,
   "id": "d38e2c9b",
   "metadata": {
    "ExecuteTime": {
     "end_time": "2023-04-23T19:02:44.679735Z",
     "start_time": "2023-04-23T19:02:44.663169Z"
    }
   },
   "outputs": [],
   "source": [
    "Price['pos']=0"
   ]
  },
  {
   "cell_type": "code",
   "execution_count": 15,
   "id": "02a6fbe5",
   "metadata": {
    "ExecuteTime": {
     "end_time": "2023-04-23T19:06:13.861217Z",
     "start_time": "2023-04-23T19:02:44.680878Z"
    }
   },
   "outputs": [],
   "source": [
    "pos=0\n",
    "for i in range(Price['Price'].count()-1):\n",
    "    if Price['Signal'][i]==1:\n",
    "        pos=1    \n",
    "    elif Price['Signal'][i]==0:\n",
    "        pos=0\n",
    "    Price.loc[i+1,'pos']=pos"
   ]
  },
  {
   "cell_type": "markdown",
   "id": "68ca98d6",
   "metadata": {},
   "source": [
    "Calculate the cumulative returns and max drawdown of our strategy"
   ]
  },
  {
   "cell_type": "code",
   "execution_count": 16,
   "id": "3fdfc2d0",
   "metadata": {
    "ExecuteTime": {
     "end_time": "2023-04-23T19:06:14.470559Z",
     "start_time": "2023-04-23T19:06:13.864733Z"
    }
   },
   "outputs": [
    {
     "data": {
      "image/png": "[encoded data removed]",
      "text/plain": [
       "<Figure size 576x432 with 1 Axes>"
      ]
     },
     "metadata": {
      "needs_background": "light"
     },
     "output_type": "display_data"
    }
   ],
   "source": [
    "Price['Strategy_returns'] = Price['pos']*Price['pct_change']\n",
    "Price['Cumulative_returns'] = ((1 + Price['Strategy_returns']).cumprod() - 1)*100\n",
    "plt.figure(figsize=(8, 6))\n",
    "plt.title('Cumulative_returns')\n",
    "plt.xlabel('Tick')\n",
    "plt.ylabel('Return/%')\n",
    "plt.plot(Price['Cumulative_returns'])\n",
    "plt.show()"
   ]
  },
  {
   "cell_type": "code",
   "execution_count": 17,
   "id": "48a4ea2f",
   "metadata": {
    "ExecuteTime": {
     "end_time": "2023-04-23T19:06:14.620836Z",
     "start_time": "2023-04-23T19:06:14.472095Z"
    }
   },
   "outputs": [
    {
     "name": "stdout",
     "output_type": "stream",
     "text": [
      "max_drawdown： 4.005366342682476 %\n"
     ]
    }
   ],
   "source": [
    "Price['rel_drawdowns'] = (Price['Cumulative_returns'] -\n",
    "                          Price['Cumulative_returns'].cummax()) / (1 + Price['Cumulative_returns'].cummax())\n",
    "max_drawdown = Price['rel_drawdowns'].min()\n",
    "print(\"max_drawdown：\", -max_drawdown*100,\"%\")"
   ]
  },
  {
   "cell_type": "code",
   "execution_count": 18,
   "id": "83fb16fd",
   "metadata": {
    "ExecuteTime": {
     "end_time": "2023-04-23T19:06:14.626721Z",
     "start_time": "2023-04-23T19:06:14.623514Z"
    }
   },
   "outputs": [],
   "source": [
    "# # 获取标普500历史价格数据\n",
    "# sp500 = yf.download('^GSPC', start='2023-01-01', end='2023-02-28')\n",
    "\n",
    "# # # 将日期列设置为索引\n",
    "# # sp500.set_index('Date', inplace=True)\n",
    "\n",
    "# # # 按月重采样并计算月度收益率\n",
    "# monthly_returns = sp500['Close'].resample('M').last().pct_change()\n",
    "\n",
    "# # 获取指定月份的收益率，例如获取2022年3月份的收益率\n",
    "# Feb_2023_return = monthly_returns['2023-02']\n",
    "\n",
    "# print(\"2023年2月标普500收益率：\", Feb_2023_return)\n"
   ]
  },
  {
   "cell_type": "code",
   "execution_count": null,
   "id": "21cce9e5",
   "metadata": {},
   "outputs": [],
   "source": []
  }
 ],
 "metadata": {
  "kernelspec": {
   "display_name": "Python 3 (ipykernel)",
   "language": "python",
   "name": "python3"
  },
  "language_info": {
   "codemirror_mode": {
    "name": "ipython",
    "version": 3
   },
   "file_extension": ".py",
   "mimetype": "text/x-python",
   "name": "python",
   "nbconvert_exporter": "python",
   "pygments_lexer": "ipython3",
   "version": "3.9.12"
  },
  "toc": {
   "base_numbering": 1,
   "nav_menu": {},
   "number_sections": true,
   "sideBar": true,
   "skip_h1_title": false,
   "title_cell": "Table of Contents",
   "title_sidebar": "Contents",
   "toc_cell": false,
   "toc_position": {},
   "toc_section_display": true,
   "toc_window_display": true
  },
  "varInspector": {
   "cols": {
    "lenName": 16,
    "lenType": 16,
    "lenVar": 40
   },
   "kernels_config": {
    "python": {
     "delete_cmd_postfix": "",
     "delete_cmd_prefix": "del ",
     "library": "var_list.py",
     "varRefreshCmd": "print(var_dic_list())"
    },
    "r": {
     "delete_cmd_postfix": ") ",
     "delete_cmd_prefix": "rm(",
     "library": "var_list.r",
     "varRefreshCmd": "cat(var_dic_list()) "
    }
   },
   "types_to_exclude": [
    "module",
    "function",
    "builtin_function_or_method",
    "instance",
    "_Feature"
   ],
   "window_display": false
  }
 },
 "nbformat": 4,
 "nbformat_minor": 5
}
